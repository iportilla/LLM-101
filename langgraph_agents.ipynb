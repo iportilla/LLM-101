{
  "nbformat": 4,
  "nbformat_minor": 0,
  "metadata": {
    "colab": {
      "provenance": [],
      "include_colab_link": true
    },
    "kernelspec": {
      "name": "python3",
      "display_name": "Python 3"
    },
    "language_info": {
      "name": "python"
    }
  },
  "cells": [
    {
      "cell_type": "markdown",
      "metadata": {
        "id": "view-in-github",
        "colab_type": "text"
      },
      "source": [
        "<a href=\"https://colab.research.google.com/github/iportilla/LLM-101/blob/main/langgraph_agents.ipynb\" target=\"_parent\"><img src=\"https://colab.research.google.com/assets/colab-badge.svg\" alt=\"Open In Colab\"/></a>"
      ]
    },
    {
      "cell_type": "code",
      "source": [
        "%%capture --no-stderr\n",
        "\n",
        "!pip install -U langgraph langsmith langchain_anthropic langchain_openai"
      ],
      "metadata": {
        "id": "4DlQ1C9pg5fp"
      },
      "execution_count": null,
      "outputs": []
    },
    {
      "cell_type": "code",
      "source": [
        "import getpass\n",
        "import os\n",
        "from langchain_openai import ChatOpenAI\n",
        "\n",
        "def _set_env(var: str):\n",
        "    if not os.environ.get(var):\n",
        "        os.environ[var] = getpass.getpass(f\"{var}: \")\n",
        "\n",
        "\n",
        "_set_env(\"OPENAI_API_KEY\")"
      ],
      "metadata": {
        "id": "KFb4cVBAzkpT",
        "colab": {
          "base_uri": "https://localhost:8080/"
        },
        "outputId": "4188eaff-f025-4282-afad-d75eb802ecc4"
      },
      "execution_count": null,
      "outputs": [
        {
          "name": "stdout",
          "output_type": "stream",
          "text": [
            "OPENAI_API_KEY: ··········\n"
          ]
        }
      ]
    },
    {
      "cell_type": "code",
      "source": [
        "llm = ChatOpenAI(model=\"o3-mini\")"
      ],
      "metadata": {
        "id": "N6GUjPhz1AcM"
      },
      "execution_count": null,
      "outputs": []
    },
    {
      "cell_type": "code",
      "source": [
        "from typing_extensions import TypedDict\n",
        "from langgraph.graph import StateGraph, START, END\n",
        "from IPython.display import Image, display\n",
        "\n",
        "\n",
        "# Graph state\n",
        "class State(TypedDict):\n",
        "    topic: str\n",
        "    intent: str\n",
        "    result: int\n",
        "\n",
        "\n",
        "\n",
        "# Nodes\n",
        "\n",
        "def check_intent(state: State):\n",
        "    \"\"\"Gate function to check if the joke has a punchline\"\"\"\n",
        "\n",
        "    # Simple check - does the joke contain \"?\" or \"!\"\n",
        "    msg = llm.invoke(f\"Check the intent of conversation in one word only,Intent can be ['tracking','conversation','Budget pay']  {state['topic']}\")\n",
        "    return {\"conversation\": msg.content}\n",
        "\n",
        "\n",
        "def check_intent_class(state: State):\n",
        "    \"\"\"Gate function to check if the joke has a punchline\"\"\"\n",
        "    # print(state)\n",
        "    # Simple check - does the joke contain \"?\" or \"!\"\n",
        "    if \"tracking\" in state[\"conversation\"].lower():\n",
        "        return \"where_is_Order\"\n",
        "    elif \"conversation\" in state['conversation'].lower():\n",
        "      return \"generate_conversation\"\n",
        "    elif \"budget pay\" in state['conversation'].lower():\n",
        "      return \"budget_pay\"\n",
        "    else:\n",
        "      return \"generate_conversation\"\n",
        "\n",
        "\n",
        "def generate_conversation(state: State):\n",
        "    msg = llm.invoke(f\"Start an conversation on  {state['topic']}\")\n",
        "    return {\"intent\": msg.content,\"result\":0}\n",
        "\n",
        "\n",
        "def where_is_Order(state: State):\n",
        "    return {\"intent\":\"order tracking\",\"result\":2+2}\n",
        "\n",
        "def budget_pay(state: State):\n",
        "    return {\"intent\":\"budget pay\",\"intent\":2-34}\n",
        "\n",
        "\n",
        "\n",
        "\n",
        "# Build workflow\n",
        "workflow = StateGraph(State)\n",
        "\n",
        "# Add nodes\n",
        "workflow.add_node(\"check_intent\", check_intent)\n",
        "workflow.add_node(\"find class\", check_intent_class)\n",
        "workflow.add_node(\"generate_conversation\", generate_conversation)\n",
        "workflow.add_node(\"where_is_Order\",where_is_Order)\n",
        "workflow.add_node(\"budget_pay\",budget_pay)\n",
        "\n",
        "# Add edges to connect nodes\n",
        "workflow.add_edge(START, \"check_intent\")\n",
        "workflow.add_conditional_edges(\n",
        "    \"check_intent\", check_intent_class, {\"where_is_Order\": \"where_is_Order\", \"generate_conversation\": \"generate_conversation\",\"budget_pay\":\"budget_pay\"}\n",
        ")\n",
        "workflow.add_edge(\"where_is_Order\",END)\n",
        "workflow.add_edge(\"generate_conversation\",END)\n",
        "workflow.add_edge('budget_pay',END)\n",
        "# workflow.add_edge(\"polish_joke\", END)\n",
        "\n",
        "# Compile\n",
        "chain = workflow.compile()\n",
        "\n",
        "# Show workflow\n",
        "display(Image(chain.get_graph().draw_mermaid_png()))\n",
        "\n"
      ],
      "metadata": {
        "colab": {
          "base_uri": "https://localhost:8080/",
          "height": 380
        },
        "id": "QbyfOkCQ0KKy",
        "outputId": "d9ef0661-9bd7-4a4f-9ad6-2895ab55a064"
      },
      "execution_count": null,
      "outputs": [
        {
          "output_type": "display_data",
          "data": {
            "image/png": "[encoded data removed]",
            "text/plain": [
              "<IPython.core.display.Image object>"
            ]
          },
          "metadata": {}
        }
      ]
    },
    {
      "cell_type": "code",
      "source": [
        "# Invoke\n",
        "state = chain.invoke({\"topic\": \"waiting for my parcel\"})\n",
        "state"
      ],
      "metadata": {
        "colab": {
          "base_uri": "https://localhost:8080/"
        },
        "id": "icYCsSQ11E6D",
        "outputId": "a3b9554d-2a1d-4c6a-93ad-cef3d72c8b4d"
      },
      "execution_count": null,
      "outputs": [
        {
          "output_type": "execute_result",
          "data": {
            "text/plain": [
              "{'topic': 'waiting for my parcel', 'intent': 'order tracking', 'result': 4}"
            ]
          },
          "metadata": {},
          "execution_count": 6
        }
      ]
    },
    {
      "cell_type": "code",
      "source": [
        "chain.invoke({\"topic\": \"how many EMI are left\"})"
      ],
      "metadata": {
        "colab": {
          "base_uri": "https://localhost:8080/"
        },
        "id": "qRbIeBit7B8R",
        "outputId": "8c4c9255-4db2-4b8d-d59d-a8953c9ed065"
      },
      "execution_count": null,
      "outputs": [
        {
          "output_type": "execute_result",
          "data": {
            "text/plain": [
              "{'topic': 'how many EMI are left', 'intent': 'order tracking', 'result': 4}"
            ]
          },
          "metadata": {},
          "execution_count": 68
        }
      ]
    },
    {
      "cell_type": "code",
      "source": [
        "chain.invoke({\"topic\": \"my order no. is kdnvkjern\"})"
      ],
      "metadata": {
        "colab": {
          "base_uri": "https://localhost:8080/"
        },
        "id": "ENmd0hum7UHn",
        "outputId": "cf1b4c98-b085-47d9-91ef-1348d99ac969"
      },
      "execution_count": null,
      "outputs": [
        {
          "output_type": "execute_result",
          "data": {
            "text/plain": [
              "{'topic': 'my order no. is kdnvkjern', 'intent': 'order tracking', 'result': 4}"
            ]
          },
          "metadata": {},
          "execution_count": 69
        }
      ]
    },
    {
      "cell_type": "code",
      "source": [
        "chain.invoke({\"topic\": \"hi i am looking for a tanzanite ring\"})"
      ],
      "metadata": {
        "colab": {
          "base_uri": "https://localhost:8080/"
        },
        "id": "URqOKsa89n6S",
        "outputId": "a84052d4-38eb-4585-c9d1-35665988a3d9"
      },
      "execution_count": null,
      "outputs": [
        {
          "output_type": "execute_result",
          "data": {
            "text/plain": [
              "{'topic': 'hi i am looking for a tanzanite ring',\n",
              " 'intent': 'Hi there! It’s great to hear you’re looking for a tanzanite ring. They can be absolutely stunning! Do you have any specific styles in mind, or are you just starting to explore your options?',\n",
              " 'result': 0}"
            ]
          },
          "metadata": {},
          "execution_count": 70
        }
      ]
    },
    {
      "cell_type": "code",
      "source": [
        "chain.invoke({\"topic\": \"hi i am looking for a tanzanite ring, what is the price\"})"
      ],
      "metadata": {
        "colab": {
          "base_uri": "https://localhost:8080/"
        },
        "id": "Wd7tBkOR94dO",
        "outputId": "a6b09616-0375-432f-a96b-05af1f7f559f"
      },
      "execution_count": null,
      "outputs": [
        {
          "output_type": "execute_result",
          "data": {
            "text/plain": [
              "{'topic': 'hi i am looking for a tanzanite ring, what is the price',\n",
              " 'intent': -32}"
            ]
          },
          "metadata": {},
          "execution_count": 76
        }
      ]
    },
    {
      "cell_type": "code",
      "source": [],
      "metadata": {
        "id": "YnDGteKlAqmx"
      },
      "execution_count": null,
      "outputs": []
    }
  ]
}